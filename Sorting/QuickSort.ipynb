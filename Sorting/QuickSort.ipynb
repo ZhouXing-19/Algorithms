{
 "cells": [
  {
   "cell_type": "code",
   "execution_count": 13,
   "metadata": {},
   "outputs": [
    {
     "name": "stdout",
     "output_type": "stream",
     "text": [
      "start: 0 end: 7\n",
      "pivot =  3\n",
      "A[ 0 ] = 2\n",
      "i is  0   [2, 1, 9, 0, 4, 7, 2, 3]\n",
      "A[ 1 ] = 1\n",
      "i is  1   [2, 1, 9, 0, 4, 7, 2, 3]\n",
      "A[ 2 ] = 9\n",
      "A[ 3 ] = 0\n",
      "i is  3   [2, 1, 0, 9, 4, 7, 2, 3]\n",
      "A[ 4 ] = 4\n",
      "A[ 5 ] = 7\n",
      "A[ 6 ] = 2\n",
      "i is  6   [2, 1, 0, 2, 4, 7, 9, 3]\n",
      "A[partitionIndex] =  4\n",
      "\n",
      "start: 0 end: 3\n",
      "pivot =  2\n",
      "A[ 0 ] = 2\n",
      "i is  0   [2, 1, 0, 2, 3, 7, 9, 4]\n",
      "A[ 1 ] = 1\n",
      "i is  1   [2, 1, 0, 2, 3, 7, 9, 4]\n",
      "A[ 2 ] = 0\n",
      "i is  2   [2, 1, 0, 2, 3, 7, 9, 4]\n",
      "A[partitionIndex] =  2\n",
      "\n",
      "start: 0 end: 2\n",
      "pivot =  0\n",
      "A[ 0 ] = 2\n",
      "A[ 1 ] = 1\n",
      "A[partitionIndex] =  2\n",
      "\n",
      "start: 1 end: 2\n",
      "pivot =  2\n",
      "A[ 1 ] = 1\n",
      "i is  1   [0, 1, 2, 2, 3, 7, 9, 4]\n",
      "A[partitionIndex] =  2\n",
      "\n",
      "start: 5 end: 7\n",
      "pivot =  4\n",
      "A[ 5 ] = 7\n",
      "A[ 6 ] = 9\n",
      "A[partitionIndex] =  7\n",
      "\n",
      "start: 6 end: 7\n",
      "pivot =  7\n",
      "A[ 6 ] = 9\n",
      "A[partitionIndex] =  9\n",
      "\n",
      "[0, 1, 2, 2, 3, 4, 7, 9]\n"
     ]
    }
   ],
   "source": [
    "def partition(A,start,end):\n",
    "    pivot = A[end]\n",
    "    print(\"pivot = \",pivot)\n",
    "    partitionIndex = start\n",
    "    # partition \n",
    "    for i in range(start,end): \n",
    "        if(A[i]<=pivot):\n",
    "            A[i],A[partitionIndex] = A[partitionIndex],A[i]\n",
    "            partitionIndex+=1\n",
    "            print(\"i is \",i,\" \",A)\n",
    "    print(\"A[partitionIndex] = \",A[partitionIndex])\n",
    "    print()\n",
    "    A[partitionIndex],A[end] = A[end],A[partitionIndex]\n",
    "    return partitionIndex\n",
    "\n",
    "def QuickSort(A,start,end):\n",
    "      if start<end:\n",
    "        print(\"start:\",start,\"end:\",end)\n",
    "        par = partition(A,start,end)\n",
    "        QuickSort(A,start,par-1)\n",
    "        QuickSort(A,par+1,end)\n",
    "        \n",
    "A = [2,1,9,0,4,7,2,3]\n",
    "QuickSort(A,0,len(A)-1)\n",
    "print(A)"
   ]
  },
  {
   "cell_type": "code",
   "execution_count": null,
   "metadata": {},
   "outputs": [],
   "source": []
  }
 ],
 "metadata": {
  "kernelspec": {
   "display_name": "Python 3",
   "language": "python",
   "name": "python3"
  },
  "language_info": {
   "codemirror_mode": {
    "name": "ipython",
    "version": 3
   },
   "file_extension": ".py",
   "mimetype": "text/x-python",
   "name": "python",
   "nbconvert_exporter": "python",
   "pygments_lexer": "ipython3",
   "version": "3.7.3"
  }
 },
 "nbformat": 4,
 "nbformat_minor": 4
}
