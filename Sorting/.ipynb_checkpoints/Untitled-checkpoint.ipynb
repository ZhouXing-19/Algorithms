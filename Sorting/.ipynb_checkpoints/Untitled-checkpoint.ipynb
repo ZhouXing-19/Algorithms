{
 "cells": [
  {
   "cell_type": "code",
   "execution_count": null,
   "metadata": {},
   "outputs": [],
   "source": [
    "def partition(A,start,end):\n",
    "    pivot = A[end]\n",
    "    partitionIndex = start\n",
    "    for i in range(start,end):\n",
    "        if(A[i]<=pivot):\n",
    "            A[i],A[partitionIndex] = A[partitionIndex],A[i]\n",
    "            partitionIndex+=1\n",
    "    A[partitionIndex],A[end] = A[end],A[partitionIndex]\n",
    "    return partitionIndex\n",
    "\n",
    "def QuickSort(A,start,end):\n",
    "      if start<end:\n",
    "        par = partition(A,start,end)\n",
    "        QuickSort(A,start,par-1)\n",
    "        QuickSort(A,par+1,end)\n",
    "A = [2,1,9,0,4,7,2,3]\n",
    "QuickSort(A,0,len(A))\n",
    "print(A)"
   ]
  }
 ],
 "metadata": {
  "kernelspec": {
   "display_name": "Python 3",
   "language": "python",
   "name": "python3"
  },
  "language_info": {
   "codemirror_mode": {
    "name": "ipython",
    "version": 3
   },
   "file_extension": ".py",
   "mimetype": "text/x-python",
   "name": "python",
   "nbconvert_exporter": "python",
   "pygments_lexer": "ipython3",
   "version": "3.7.3"
  }
 },
 "nbformat": 4,
 "nbformat_minor": 4
}
