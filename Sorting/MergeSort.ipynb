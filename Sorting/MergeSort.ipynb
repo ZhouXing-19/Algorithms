{
 "cells": [
  {
   "cell_type": "code",
   "execution_count": 70,
   "metadata": {},
   "outputs": [
    {
     "data": {
      "text/plain": [
       "[1]"
      ]
     },
     "execution_count": 70,
     "metadata": {},
     "output_type": "execute_result"
    }
   ],
   "source": [
    "a = [1,2,3,4]\n",
    "a[0:1]"
   ]
  },
  {
   "cell_type": "code",
   "execution_count": 74,
   "metadata": {},
   "outputs": [],
   "source": [
    "def merge(A,start,end):\n",
    "    "
   ]
  },
  {
   "cell_type": "code",
   "execution_count": 56,
   "metadata": {},
   "outputs": [
    {
     "data": {
      "text/plain": [
       "[2, 4, 0, 7, 1, 3, 5, 9, 6, 8]"
      ]
     },
     "execution_count": 56,
     "metadata": {},
     "output_type": "execute_result"
    }
   ],
   "source": [
    "import random\n",
    "A = random.sample(range(0,10),10)\n",
    "A"
   ]
  },
  {
   "cell_type": "code",
   "execution_count": 78,
   "metadata": {},
   "outputs": [
    {
     "name": "stdout",
     "output_type": "stream",
     "text": [
      "Splitting  [14, 46, 43, 27, 57, 41, 45, 21, 70]\n",
      "Splitting  [14, 46, 43, 27]\n",
      "Splitting  [14, 46]\n",
      "Splitting  [14]\n",
      "Merging  [14]\n",
      "Splitting  [46]\n",
      "Merging  [46]\n",
      "Merging  [14, 46]\n",
      "Splitting  [43, 27]\n",
      "Splitting  [43]\n",
      "Merging  [43]\n",
      "Splitting  [27]\n",
      "Merging  [27]\n",
      "Merging  [27, 43]\n",
      "Merging  [14, 27, 43, 46]\n",
      "Splitting  [57, 41, 45, 21, 70]\n",
      "Splitting  [57, 41]\n",
      "Splitting  [57]\n",
      "Merging  [57]\n",
      "Splitting  [41]\n",
      "Merging  [41]\n",
      "Merging  [41, 57]\n",
      "Splitting  [45, 21, 70]\n",
      "Splitting  [45]\n",
      "Merging  [45]\n",
      "Splitting  [21, 70]\n",
      "Splitting  [21]\n",
      "Merging  [21]\n",
      "Splitting  [70]\n",
      "Merging  [70]\n",
      "Merging  [21, 70]\n",
      "Merging  [21, 45, 70]\n",
      "Merging  [21, 41, 45, 57, 70]\n",
      "Merging  [14, 21, 27, 41, 43, 45, 46, 57, 70]\n",
      "[14, 21, 27, 41, 43, 45, 46, 57, 70]\n"
     ]
    }
   ],
   "source": [
    "def mergeSort(nlist):\n",
    "    print(\"Splitting \",nlist)\n",
    "    if len(nlist)>1:\n",
    "        mid = len(nlist)//2\n",
    "        lefthalf = nlist[:mid]\n",
    "        righthalf = nlist[mid:]\n",
    "\n",
    "        mergeSort(lefthalf) #这里改造了lefthalf\n",
    "        mergeSort(righthalf) #这里改造了righthalf\n",
    "        \n",
    "        #下面是根据lefthalf和righthalf来改造nlist\n",
    "        #在迭代中，每一层的lefthalf都会被作为nlist被自己的sub-lefthalf和sub-righthalf改造\n",
    "        #然后改造自己的上一层nlist\n",
    "        \n",
    "        i=j=k=0       \n",
    "        while i < len(lefthalf) and j < len(righthalf):\n",
    "            if lefthalf[i] < righthalf[j]:\n",
    "                nlist[k]=lefthalf[i]\n",
    "                i=i+1\n",
    "            else:\n",
    "                nlist[k]=righthalf[j]\n",
    "                j=j+1\n",
    "            k=k+1\n",
    "\n",
    "        while i < len(lefthalf):\n",
    "            nlist[k]=lefthalf[i]\n",
    "            i=i+1\n",
    "            k=k+1\n",
    "\n",
    "        while j < len(righthalf):\n",
    "            nlist[k]=righthalf[j]\n",
    "            j=j+1\n",
    "            k=k+1\n",
    "    print(\"Merging \",nlist)\n",
    "\n",
    "nlist = [14,46,43,27,57,41,45,21,70]\n",
    "mergeSort(nlist)\n",
    "print(nlist)\n"
   ]
  },
  {
   "cell_type": "code",
   "execution_count": 79,
   "metadata": {},
   "outputs": [
    {
     "name": "stdout",
     "output_type": "stream",
     "text": [
      "[1, 2, 3, 4]\n"
     ]
    }
   ],
   "source": [
    "a = [1,2,3,4]\n",
    "b = a[:2]\n",
    "b[0] = 11\n",
    "print(a)"
   ]
  },
  {
   "cell_type": "code",
   "execution_count": 88,
   "metadata": {},
   "outputs": [],
   "source": [
    "def merge(A,lefthalf,righthalf):\n",
    "    i=j=k=0\n",
    "    while i<len(lefthalf) and j < len(righthalf):\n",
    "        if lefthalf[i]<=righthalf[j]:\n",
    "            A[k] = lefthalf[i]\n",
    "            i+=1\n",
    "        else:\n",
    "            A[k] = righthalf[j]\n",
    "            j+=1\n",
    "        k+=1\n",
    "    while i<len(lefthalf):\n",
    "        A[k] = lefthalf[i]\n",
    "        i+=1\n",
    "        k+=1\n",
    "    while j<len(righthalf):\n",
    "        A[k] = righthalf[j]\n",
    "        j+=1\n",
    "        k+=1\n",
    "    print(\"merged:\", A)\n",
    "\n",
    "def mergesort(A):\n",
    "    print(\"spliting:\",A)\n",
    "    if len(A)>1:\n",
    "        mid = len(A)//2\n",
    "        lefthalf = A[:mid]\n",
    "        righthalf = A[mid:]\n",
    "        mergesort(lefthalf)\n",
    "        mergesort(righthalf)\n",
    "        merge(A,lefthalf,righthalf)"
   ]
  },
  {
   "cell_type": "code",
   "execution_count": 84,
   "metadata": {},
   "outputs": [
    {
     "data": {
      "text/plain": [
       "[9, 3, 7, 8, 2, 0, 6, 1, 5, 4]"
      ]
     },
     "execution_count": 84,
     "metadata": {},
     "output_type": "execute_result"
    }
   ],
   "source": [
    "import random\n",
    "A = random.sample(range(0,10),10)\n",
    "A"
   ]
  },
  {
   "cell_type": "code",
   "execution_count": 89,
   "metadata": {},
   "outputs": [
    {
     "name": "stdout",
     "output_type": "stream",
     "text": [
      "spliting: [9, 3, 7, 8, 2, 0, 6, 1, 5, 4]\n",
      "spliting: [9, 3, 7, 8, 2]\n",
      "spliting: [9, 3]\n",
      "spliting: [9]\n",
      "spliting: [3]\n",
      "merged: [3, 9]\n",
      "spliting: [7, 8, 2]\n",
      "spliting: [7]\n",
      "spliting: [8, 2]\n",
      "spliting: [8]\n",
      "spliting: [2]\n",
      "merged: [2, 8]\n",
      "merged: [2, 7, 8]\n",
      "merged: [2, 3, 7, 8, 9]\n",
      "spliting: [0, 6, 1, 5, 4]\n",
      "spliting: [0, 6]\n",
      "spliting: [0]\n",
      "spliting: [6]\n",
      "merged: [0, 6]\n",
      "spliting: [1, 5, 4]\n",
      "spliting: [1]\n",
      "spliting: [5, 4]\n",
      "spliting: [5]\n",
      "spliting: [4]\n",
      "merged: [4, 5]\n",
      "merged: [1, 4, 5]\n",
      "merged: [0, 1, 4, 5, 6]\n",
      "merged: [0, 1, 2, 3, 4, 5, 6, 7, 8, 9]\n"
     ]
    }
   ],
   "source": [
    "mergesort(A)"
   ]
  },
  {
   "cell_type": "code",
   "execution_count": null,
   "metadata": {},
   "outputs": [],
   "source": []
  }
 ],
 "metadata": {
  "kernelspec": {
   "display_name": "Python 3",
   "language": "python",
   "name": "python3"
  },
  "language_info": {
   "codemirror_mode": {
    "name": "ipython",
    "version": 3
   },
   "file_extension": ".py",
   "mimetype": "text/x-python",
   "name": "python",
   "nbconvert_exporter": "python",
   "pygments_lexer": "ipython3",
   "version": "3.7.3"
  }
 },
 "nbformat": 4,
 "nbformat_minor": 4
}
